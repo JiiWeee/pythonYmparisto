{
 "metadata": {
  "language_info": {
   "codemirror_mode": {
    "name": "ipython",
    "version": 3
   },
   "file_extension": ".py",
   "mimetype": "text/x-python",
   "name": "python",
   "nbconvert_exporter": "python",
   "pygments_lexer": "ipython3",
   "version": "3.9.1-final"
  },
  "orig_nbformat": 2,
  "kernelspec": {
   "name": "python3",
   "display_name": "Python 3.9.1 64-bit",
   "metadata": {
    "interpreter": {
     "hash": "44705a86c010112e38a7ef0c50b78fc6b5fdf8500a6b0694033250d96ed7c346"
    }
   }
  }
 },
 "nbformat": 4,
 "nbformat_minor": 2,
 "cells": [
  {
   "cell_type": "code",
   "execution_count": 6,
   "metadata": {},
   "outputs": [
    {
     "output_type": "stream",
     "name": "stdout",
     "text": [
      "Mikan painoindeksi on 24.96494647925858\n"
     ]
    }
   ],
   "source": [
    "pituus = 1.71\n",
    "paino = 73\n",
    "\n",
    "def painoindeksi(paino, pituus):\n",
    "    bmi = paino / pituus**2\n",
    "    return bmi"
   ]
  },
  {
   "cell_type": "code",
   "execution_count": null,
   "metadata": {},
   "outputs": [],
   "source": [
    "# funktio painoindeksin (body mass index) laskemiseksi\n",
    "def bmi(paino, pituus):\n",
    "    painoindeksi = paino / pituus ** 2\n",
    "    return painoindeksi\n"
   ]
  },
  {
   "cell_type": "code",
   "execution_count": 1,
   "metadata": {},
   "outputs": [],
   "source": [
    "#funktio kehon rasvaprosentin laskemiseksi\n",
    "def rasvaprosentti(bmi, ika, sukupuoli):\n",
    "    rprosentti = 1.2 * bmi + 0.23 * ika - 10.8 * sukupuoli - 5.4\n",
    "    return rprosentti \n"
   ]
  },
  {
   "cell_type": "code",
   "execution_count": 2,
   "metadata": {},
   "outputs": [],
   "source": [
    "# Kysytään käyttäjältä tarvittavat tiedot, huom näppäimistöstä saadaan aina merkkijono (string)\n",
    "paino_str = input('Anna painosi kilogrammoina: ')\n",
    "pituus_str = input('anna pituutesi metreinä: ')\n",
    "ika_str = input('kuinka vanha olet: ')\n",
    "sukupuoli_str = input('paina 1, jos olet mies, 0 jos olet nainen: ')"
   ]
  },
  {
   "cell_type": "code",
   "execution_count": null,
   "metadata": {},
   "outputs": [],
   "source": [
    "# Muutetaan merkkijonot luvuiksi\n",
    "paino = float(paino_str)\n",
    "pituus = float(pituus_str)\n",
    "ika = float(ika_str)\n",
    "sukupuoli = float(sukupuoli_str)"
   ]
  },
  {
   "cell_type": "code",
   "execution_count": null,
   "metadata": {},
   "outputs": [],
   "source": [
    "# Lasketaan painoindeksi kysyttyjen tietojen perusteella\n",
    "bmi = bmi(paino, pituus)\n",
    "\n",
    "# Lasketaan rasvaprosentti\n",
    "rasvaprosentti = rasvaprosentti(bmi, ika, sukupuoli)\n",
    "print('Rasvaprosenttisi on', rasvaprosentti)"
   ]
  }
 ]
}